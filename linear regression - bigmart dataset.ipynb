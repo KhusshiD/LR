{
 "cells": [
  {
   "cell_type": "code",
   "execution_count": 35,
   "id": "d28678f0",
   "metadata": {},
   "outputs": [],
   "source": [
    "import numpy as np\n",
    "import pandas as pd\n",
    "import matplotlib.pyplot as plt\n",
    "import seaborn as sns \n",
    "import sklearn.linear_model as lm\n",
    "import statsmodels.formula.api as smf  \n",
    "import statsmodels.api as sm\n",
    "from statsmodels.stats.outliers_influence import variance_inflation_factor"
   ]
  },
  {
   "cell_type": "code",
   "execution_count": 36,
   "id": "71acdb0e",
   "metadata": {},
   "outputs": [],
   "source": [
    "df = pd.read_csv(\"C:/Users/Khusshi Dedhiaa/Desktop/SSDI/bigmart.csv\")"
   ]
  },
  {
   "cell_type": "code",
   "execution_count": 37,
   "id": "0a548230",
   "metadata": {},
   "outputs": [
    {
     "data": {
      "text/html": [
       "<div>\n",
       "<style scoped>\n",
       "    .dataframe tbody tr th:only-of-type {\n",
       "        vertical-align: middle;\n",
       "    }\n",
       "\n",
       "    .dataframe tbody tr th {\n",
       "        vertical-align: top;\n",
       "    }\n",
       "\n",
       "    .dataframe thead th {\n",
       "        text-align: right;\n",
       "    }\n",
       "</style>\n",
       "<table border=\"1\" class=\"dataframe\">\n",
       "  <thead>\n",
       "    <tr style=\"text-align: right;\">\n",
       "      <th></th>\n",
       "      <th>Item_Weight</th>\n",
       "      <th>Item_Fat_Content</th>\n",
       "      <th>Item_Visibility</th>\n",
       "      <th>Item_Type</th>\n",
       "      <th>Item_MRP</th>\n",
       "      <th>Outlet_Size</th>\n",
       "      <th>Outlet_Location_Type</th>\n",
       "      <th>Outlet_Type</th>\n",
       "      <th>Item_Outlet_Sales</th>\n",
       "    </tr>\n",
       "  </thead>\n",
       "  <tbody>\n",
       "    <tr>\n",
       "      <th>0</th>\n",
       "      <td>9.30</td>\n",
       "      <td>Low Fat</td>\n",
       "      <td>0.016047</td>\n",
       "      <td>Dairy</td>\n",
       "      <td>249.8092</td>\n",
       "      <td>Medium</td>\n",
       "      <td>Tier 1</td>\n",
       "      <td>Supermarket Type1</td>\n",
       "      <td>3735.1380</td>\n",
       "    </tr>\n",
       "    <tr>\n",
       "      <th>1</th>\n",
       "      <td>5.92</td>\n",
       "      <td>Regular</td>\n",
       "      <td>0.019278</td>\n",
       "      <td>Soft Drinks</td>\n",
       "      <td>48.2692</td>\n",
       "      <td>Medium</td>\n",
       "      <td>Tier 3</td>\n",
       "      <td>Supermarket Type2</td>\n",
       "      <td>443.4228</td>\n",
       "    </tr>\n",
       "  </tbody>\n",
       "</table>\n",
       "</div>"
      ],
      "text/plain": [
       "   Item_Weight Item_Fat_Content  Item_Visibility    Item_Type  Item_MRP  \\\n",
       "0         9.30          Low Fat         0.016047        Dairy  249.8092   \n",
       "1         5.92          Regular         0.019278  Soft Drinks   48.2692   \n",
       "\n",
       "  Outlet_Size Outlet_Location_Type        Outlet_Type  Item_Outlet_Sales  \n",
       "0      Medium               Tier 1  Supermarket Type1          3735.1380  \n",
       "1      Medium               Tier 3  Supermarket Type2           443.4228  "
      ]
     },
     "execution_count": 37,
     "metadata": {},
     "output_type": "execute_result"
    }
   ],
   "source": [
    "df.head(2)"
   ]
  },
  {
   "cell_type": "code",
   "execution_count": 38,
   "id": "a2b85109",
   "metadata": {},
   "outputs": [
    {
     "data": {
      "text/plain": [
       "Item_Weight             1463\n",
       "Item_Fat_Content           0\n",
       "Item_Visibility            0\n",
       "Item_Type                  0\n",
       "Item_MRP                   0\n",
       "Outlet_Size             2410\n",
       "Outlet_Location_Type       0\n",
       "Outlet_Type                0\n",
       "Item_Outlet_Sales          0\n",
       "dtype: int64"
      ]
     },
     "execution_count": 38,
     "metadata": {},
     "output_type": "execute_result"
    }
   ],
   "source": [
    "df.isna().sum()"
   ]
  },
  {
   "cell_type": "code",
   "execution_count": 39,
   "id": "075431fb",
   "metadata": {},
   "outputs": [],
   "source": [
    "mean = df.Item_Weight.mean()\n",
    "df.Item_Weight.fillna(mean, inplace=True)"
   ]
  },
  {
   "cell_type": "code",
   "execution_count": 40,
   "id": "8038de71",
   "metadata": {},
   "outputs": [],
   "source": [
    "mode = df.Outlet_Size.mode()[0]\n",
    "df.Outlet_Size.fillna(mode, inplace=True)"
   ]
  },
  {
   "cell_type": "code",
   "execution_count": 78,
   "id": "1dc6e6c7",
   "metadata": {},
   "outputs": [
    {
     "data": {
      "text/plain": [
       "Item_Weight             0\n",
       "Item_Fat_Content        0\n",
       "Item_Visibility         0\n",
       "Item_Type               0\n",
       "Item_MRP                0\n",
       "Outlet_Size             0\n",
       "Outlet_Location_Type    0\n",
       "Item_Outlet_Sales       0\n",
       "Outlet_Type_G           0\n",
       "Outlet_Type_T1          0\n",
       "Outlet_Type_T2          0\n",
       "Outlet_Type_T3          0\n",
       "dtype: int64"
      ]
     },
     "execution_count": 78,
     "metadata": {},
     "output_type": "execute_result"
    }
   ],
   "source": [
    "df.isna().sum()"
   ]
  },
  {
   "cell_type": "code",
   "execution_count": 42,
   "id": "695c0049",
   "metadata": {},
   "outputs": [
    {
     "name": "stdout",
     "output_type": "stream",
     "text": [
      "<class 'pandas.core.frame.DataFrame'>\n",
      "RangeIndex: 8523 entries, 0 to 8522\n",
      "Data columns (total 9 columns):\n",
      " #   Column                Non-Null Count  Dtype  \n",
      "---  ------                --------------  -----  \n",
      " 0   Item_Weight           8523 non-null   float64\n",
      " 1   Item_Fat_Content      8523 non-null   object \n",
      " 2   Item_Visibility       8523 non-null   float64\n",
      " 3   Item_Type             8523 non-null   object \n",
      " 4   Item_MRP              8523 non-null   float64\n",
      " 5   Outlet_Size           8523 non-null   object \n",
      " 6   Outlet_Location_Type  8523 non-null   object \n",
      " 7   Outlet_Type           8523 non-null   object \n",
      " 8   Item_Outlet_Sales     8523 non-null   float64\n",
      "dtypes: float64(4), object(5)\n",
      "memory usage: 599.4+ KB\n"
     ]
    }
   ],
   "source": [
    "df.info()"
   ]
  },
  {
   "cell_type": "code",
   "execution_count": 43,
   "id": "7c3a3e62",
   "metadata": {},
   "outputs": [
    {
     "data": {
      "text/html": [
       "<div>\n",
       "<style scoped>\n",
       "    .dataframe tbody tr th:only-of-type {\n",
       "        vertical-align: middle;\n",
       "    }\n",
       "\n",
       "    .dataframe tbody tr th {\n",
       "        vertical-align: top;\n",
       "    }\n",
       "\n",
       "    .dataframe thead th {\n",
       "        text-align: right;\n",
       "    }\n",
       "</style>\n",
       "<table border=\"1\" class=\"dataframe\">\n",
       "  <thead>\n",
       "    <tr style=\"text-align: right;\">\n",
       "      <th></th>\n",
       "      <th>Item_Weight</th>\n",
       "      <th>Item_Fat_Content</th>\n",
       "      <th>Item_Visibility</th>\n",
       "      <th>Item_Type</th>\n",
       "      <th>Item_MRP</th>\n",
       "      <th>Outlet_Size</th>\n",
       "      <th>Outlet_Location_Type</th>\n",
       "      <th>Outlet_Type</th>\n",
       "      <th>Item_Outlet_Sales</th>\n",
       "    </tr>\n",
       "  </thead>\n",
       "  <tbody>\n",
       "    <tr>\n",
       "      <th>0</th>\n",
       "      <td>9.30</td>\n",
       "      <td>Low Fat</td>\n",
       "      <td>0.016047</td>\n",
       "      <td>Dairy</td>\n",
       "      <td>249.8092</td>\n",
       "      <td>Medium</td>\n",
       "      <td>Tier 1</td>\n",
       "      <td>Supermarket Type1</td>\n",
       "      <td>3735.1380</td>\n",
       "    </tr>\n",
       "    <tr>\n",
       "      <th>1</th>\n",
       "      <td>5.92</td>\n",
       "      <td>Regular</td>\n",
       "      <td>0.019278</td>\n",
       "      <td>Soft Drinks</td>\n",
       "      <td>48.2692</td>\n",
       "      <td>Medium</td>\n",
       "      <td>Tier 3</td>\n",
       "      <td>Supermarket Type2</td>\n",
       "      <td>443.4228</td>\n",
       "    </tr>\n",
       "  </tbody>\n",
       "</table>\n",
       "</div>"
      ],
      "text/plain": [
       "   Item_Weight Item_Fat_Content  Item_Visibility    Item_Type  Item_MRP  \\\n",
       "0         9.30          Low Fat         0.016047        Dairy  249.8092   \n",
       "1         5.92          Regular         0.019278  Soft Drinks   48.2692   \n",
       "\n",
       "  Outlet_Size Outlet_Location_Type        Outlet_Type  Item_Outlet_Sales  \n",
       "0      Medium               Tier 1  Supermarket Type1          3735.1380  \n",
       "1      Medium               Tier 3  Supermarket Type2           443.4228  "
      ]
     },
     "execution_count": 43,
     "metadata": {},
     "output_type": "execute_result"
    }
   ],
   "source": [
    "df.head(2)"
   ]
  },
  {
   "cell_type": "code",
   "execution_count": 44,
   "id": "45b50406",
   "metadata": {},
   "outputs": [
    {
     "data": {
      "text/plain": [
       "array(['Low Fat', 'Regular', 'low fat', 'LF', 'reg'], dtype=object)"
      ]
     },
     "execution_count": 44,
     "metadata": {},
     "output_type": "execute_result"
    }
   ],
   "source": [
    "df.Item_Fat_Content.unique()"
   ]
  },
  {
   "cell_type": "code",
   "execution_count": 45,
   "id": "b6bcdbb8",
   "metadata": {},
   "outputs": [],
   "source": [
    "df['Item_Fat_Content'] = df.Item_Fat_Content.map({'Low Fat':'LF','Regular':'R','low fat':'LF','LF':'LF','reg':'R'})"
   ]
  },
  {
   "cell_type": "code",
   "execution_count": 46,
   "id": "8f54710d",
   "metadata": {},
   "outputs": [
    {
     "data": {
      "text/plain": [
       "array(['Medium', 'High', 'Small'], dtype=object)"
      ]
     },
     "execution_count": 46,
     "metadata": {},
     "output_type": "execute_result"
    }
   ],
   "source": [
    "df.Outlet_Size.unique()"
   ]
  },
  {
   "cell_type": "code",
   "execution_count": 47,
   "id": "5ff65587",
   "metadata": {},
   "outputs": [],
   "source": [
    "df['Outlet_Size'] = df.Outlet_Size.map({'Medium':'M','High':'H','Small':'S'})"
   ]
  },
  {
   "cell_type": "code",
   "execution_count": 48,
   "id": "eb26e9e0",
   "metadata": {},
   "outputs": [
    {
     "data": {
      "text/plain": [
       "array(['Tier 1', 'Tier 3', 'Tier 2'], dtype=object)"
      ]
     },
     "execution_count": 48,
     "metadata": {},
     "output_type": "execute_result"
    }
   ],
   "source": [
    "df.Outlet_Location_Type.unique()"
   ]
  },
  {
   "cell_type": "code",
   "execution_count": 49,
   "id": "79df6358",
   "metadata": {},
   "outputs": [],
   "source": [
    "df['Outlet_Location_Type'] = df.Outlet_Location_Type.map({'Tier 1':1, 'Tier 2':2, 'Tier 3':3})"
   ]
  },
  {
   "cell_type": "code",
   "execution_count": 50,
   "id": "ab7152c1",
   "metadata": {},
   "outputs": [
    {
     "data": {
      "text/plain": [
       "array(['Supermarket Type1', 'Supermarket Type2', 'Grocery Store',\n",
       "       'Supermarket Type3'], dtype=object)"
      ]
     },
     "execution_count": 50,
     "metadata": {},
     "output_type": "execute_result"
    }
   ],
   "source": [
    "df.Outlet_Type.unique()"
   ]
  },
  {
   "cell_type": "code",
   "execution_count": 51,
   "id": "444e2c96",
   "metadata": {},
   "outputs": [],
   "source": [
    "df['Outlet_Type'] = df.Outlet_Type.map({'Supermarket Type1':'T1','Supermarket Type2':'T2','Grocery Store':'G','Supermarket Type3':'T3'})"
   ]
  },
  {
   "cell_type": "code",
   "execution_count": 52,
   "id": "6517d4de",
   "metadata": {},
   "outputs": [],
   "source": [
    "from sklearn.preprocessing import scale "
   ]
  },
  {
   "cell_type": "code",
   "execution_count": 54,
   "id": "d6ad758e",
   "metadata": {
    "scrolled": true
   },
   "outputs": [],
   "source": [
    "df['Item_Weight'] = scale(df[['Item_Weight']], with_mean=True, with_std=True)"
   ]
  },
  {
   "cell_type": "code",
   "execution_count": 55,
   "id": "568968c3",
   "metadata": {},
   "outputs": [],
   "source": [
    "df['Item_Visibility'] = scale(df[['Item_Visibility']], with_mean=True, with_std=True)"
   ]
  },
  {
   "cell_type": "code",
   "execution_count": 56,
   "id": "d5eb351c",
   "metadata": {},
   "outputs": [],
   "source": [
    "df['Item_MRP'] = scale(df[['Item_MRP']], with_mean=True, with_std=True)"
   ]
  },
  {
   "cell_type": "code",
   "execution_count": 57,
   "id": "34140be2",
   "metadata": {},
   "outputs": [
    {
     "data": {
      "text/html": [
       "<div>\n",
       "<style scoped>\n",
       "    .dataframe tbody tr th:only-of-type {\n",
       "        vertical-align: middle;\n",
       "    }\n",
       "\n",
       "    .dataframe tbody tr th {\n",
       "        vertical-align: top;\n",
       "    }\n",
       "\n",
       "    .dataframe thead th {\n",
       "        text-align: right;\n",
       "    }\n",
       "</style>\n",
       "<table border=\"1\" class=\"dataframe\">\n",
       "  <thead>\n",
       "    <tr style=\"text-align: right;\">\n",
       "      <th></th>\n",
       "      <th>Item_Weight</th>\n",
       "      <th>Item_Fat_Content</th>\n",
       "      <th>Item_Visibility</th>\n",
       "      <th>Item_Type</th>\n",
       "      <th>Item_MRP</th>\n",
       "      <th>Outlet_Size</th>\n",
       "      <th>Outlet_Location_Type</th>\n",
       "      <th>Outlet_Type</th>\n",
       "      <th>Item_Outlet_Sales</th>\n",
       "    </tr>\n",
       "  </thead>\n",
       "  <tbody>\n",
       "    <tr>\n",
       "      <th>0</th>\n",
       "      <td>-0.841872</td>\n",
       "      <td>LF</td>\n",
       "      <td>-0.970732</td>\n",
       "      <td>Dairy</td>\n",
       "      <td>1.747454</td>\n",
       "      <td>M</td>\n",
       "      <td>1</td>\n",
       "      <td>T1</td>\n",
       "      <td>3735.1380</td>\n",
       "    </tr>\n",
       "    <tr>\n",
       "      <th>1</th>\n",
       "      <td>-1.641706</td>\n",
       "      <td>R</td>\n",
       "      <td>-0.908111</td>\n",
       "      <td>Soft Drinks</td>\n",
       "      <td>-1.489023</td>\n",
       "      <td>M</td>\n",
       "      <td>3</td>\n",
       "      <td>T2</td>\n",
       "      <td>443.4228</td>\n",
       "    </tr>\n",
       "  </tbody>\n",
       "</table>\n",
       "</div>"
      ],
      "text/plain": [
       "   Item_Weight Item_Fat_Content  Item_Visibility    Item_Type  Item_MRP  \\\n",
       "0    -0.841872               LF        -0.970732        Dairy  1.747454   \n",
       "1    -1.641706                R        -0.908111  Soft Drinks -1.489023   \n",
       "\n",
       "  Outlet_Size  Outlet_Location_Type Outlet_Type  Item_Outlet_Sales  \n",
       "0           M                     1          T1          3735.1380  \n",
       "1           M                     3          T2           443.4228  "
      ]
     },
     "execution_count": 57,
     "metadata": {},
     "output_type": "execute_result"
    }
   ],
   "source": [
    "df.head(2)"
   ]
  },
  {
   "cell_type": "code",
   "execution_count": 58,
   "id": "525ae5a8",
   "metadata": {},
   "outputs": [],
   "source": [
    "from statsmodels.tools.tools import add_constant"
   ]
  },
  {
   "cell_type": "code",
   "execution_count": 59,
   "id": "cb9d727b",
   "metadata": {},
   "outputs": [
    {
     "name": "stdout",
     "output_type": "stream",
     "text": [
      "           feature       VIF\n",
      "0      Item_Weight  1.000758\n",
      "1  Item_Visibility  1.000146\n",
      "2         Item_MRP  1.000614\n"
     ]
    }
   ],
   "source": [
    "x = add_constant(df)\n",
    "x = df[['Item_Weight','Item_Visibility','Item_MRP']]\n",
    "vif_df = pd.DataFrame()\n",
    "vif_df['feature'] = x.columns\n",
    "vif_df['VIF'] = [variance_inflation_factor(x.values,i) for i in range (len(x.columns))]\n",
    "print(vif_df)"
   ]
  },
  {
   "cell_type": "code",
   "execution_count": 60,
   "id": "acc8561b",
   "metadata": {
    "scrolled": true
   },
   "outputs": [
    {
     "name": "stdout",
     "output_type": "stream",
     "text": [
      "Item_Weight+Item_Fat_Content+Item_Visibility+Item_Type+Item_MRP+Outlet_Size+Outlet_Location_Type+Outlet_Type+Item_Outlet_Sales+"
     ]
    }
   ],
   "source": [
    "for i in df.columns:\n",
    "    print(i, end='+')"
   ]
  },
  {
   "cell_type": "code",
   "execution_count": 61,
   "id": "c5ed5465",
   "metadata": {},
   "outputs": [
    {
     "name": "stdout",
     "output_type": "stream",
     "text": [
      "                            OLS Regression Results                            \n",
      "==============================================================================\n",
      "Dep. Variable:      Item_Outlet_Sales   R-squared:                       0.563\n",
      "Model:                            OLS   Adj. R-squared:                  0.561\n",
      "Method:                 Least Squares   F-statistic:                     437.3\n",
      "Date:                Sat, 22 Apr 2023   Prob (F-statistic):               0.00\n",
      "Time:                        19:10:14   Log-Likelihood:                -71999.\n",
      "No. Observations:                8523   AIC:                         1.440e+05\n",
      "Df Residuals:                    8497   BIC:                         1.442e+05\n",
      "Df Model:                          25                                         \n",
      "Covariance Type:            nonrobust                                         \n",
      "==============================================================================\n",
      "======================================================================================================\n",
      "                                         coef    std err          t      P>|t|      [0.025      0.975]\n",
      "------------------------------------------------------------------------------------------------------\n",
      "Intercept                            286.2968    115.870      2.471      0.013      59.163     513.431\n",
      "Item_Fat_Content[T.R]                 40.7738     28.258      1.443      0.149     -14.619      96.166\n",
      "Item_Type[T.Breads]                    2.5727     84.125      0.031      0.976    -162.332     167.478\n",
      "Item_Type[T.Breakfast]                11.1206    116.726      0.095      0.924    -217.690     239.932\n",
      "Item_Type[T.Canned]                   26.1074     62.831      0.416      0.678     -97.057     149.271\n",
      "Item_Type[T.Dairy]                   -39.2839     62.293     -0.631      0.528    -161.393      82.825\n",
      "Item_Type[T.Frozen Foods]            -25.8825     58.925     -0.439      0.660    -141.389      89.624\n",
      "Item_Type[T.Fruits and Vegetables]    29.8522     55.012      0.543      0.587     -77.986     137.690\n",
      "Item_Type[T.Hard Drinks]               0.3401     90.270      0.004      0.997    -176.611     177.291\n",
      "Item_Type[T.Health and Hygiene]      -10.1356     68.083     -0.149      0.882    -143.594     123.323\n",
      "Item_Type[T.Household]               -38.9733     59.982     -0.650      0.516    -156.553      78.606\n",
      "Item_Type[T.Meat]                      2.3939     70.720      0.034      0.973    -136.234     141.022\n",
      "Item_Type[T.Others]                  -25.2763     98.718     -0.256      0.798    -218.787     168.234\n",
      "Item_Type[T.Seafood]                 182.5488    148.147      1.232      0.218    -107.854     472.952\n",
      "Item_Type[T.Snack Foods]              -9.2964     55.300     -0.168      0.867    -117.697      99.104\n",
      "Item_Type[T.Soft Drinks]             -26.4124     70.243     -0.376      0.707    -164.107     111.282\n",
      "Item_Type[T.Starchy Foods]            25.0555    103.141      0.243      0.808    -177.127     227.238\n",
      "Outlet_Size[T.M]                      27.6406     52.839      0.523      0.601     -75.937     131.218\n",
      "Outlet_Size[T.S]                      60.1711     63.618      0.946      0.344     -64.536     184.878\n",
      "Outlet_Type[T.T1]                   1960.4449     41.753     46.954      0.000    1878.599    2042.291\n",
      "Outlet_Type[T.T2]                   1624.3731     57.027     28.484      0.000    1512.586    1736.160\n",
      "Outlet_Type[T.T3]                   3351.2754     57.039     58.754      0.000    3239.465    3463.085\n",
      "Item_Weight                           -1.5478     12.329     -0.126      0.900     -25.716      22.620\n",
      "Item_Visibility                      -15.3993     12.844     -1.199      0.231     -40.576       9.778\n",
      "Item_MRP                             969.1088     12.323     78.642      0.000     944.953     993.265\n",
      "Outlet_Location_Type                  11.7436     26.528      0.443      0.658     -40.258      63.745\n",
      "======================================================================================================\n"
     ]
    }
   ],
   "source": [
    "fit1 = smf.ols('Item_Outlet_Sales ~ Item_Weight+Item_Fat_Content+Item_Visibility+Item_Type+Item_MRP+Outlet_Size+Outlet_Location_Type+Outlet_Type', data=df).fit()\n",
    "print(fit1.summary().tables[0])\n",
    "print(fit1.summary().tables[1])"
   ]
  },
  {
   "cell_type": "code",
   "execution_count": 63,
   "id": "67237a08",
   "metadata": {},
   "outputs": [
    {
     "name": "stdout",
     "output_type": "stream",
     "text": [
      "                            OLS Regression Results                            \n",
      "==============================================================================\n",
      "Dep. Variable:      Item_Outlet_Sales   R-squared:                       0.562\n",
      "Model:                            OLS   Adj. R-squared:                  0.562\n",
      "Method:                 Least Squares   F-statistic:                     2733.\n",
      "Date:                Sat, 22 Apr 2023   Prob (F-statistic):               0.00\n",
      "Time:                        19:12:11   Log-Likelihood:                -72004.\n",
      "No. Observations:                8523   AIC:                         1.440e+05\n",
      "Df Residuals:                    8518   BIC:                         1.441e+05\n",
      "Df Model:                           4                                         \n",
      "Covariance Type:            nonrobust                                         \n",
      "==============================================================================\n",
      "=====================================================================================\n",
      "                        coef    std err          t      P>|t|      [0.025      0.975]\n",
      "-------------------------------------------------------------------------------------\n",
      "Intercept           350.6920     34.325     10.217      0.000     283.407     417.977\n",
      "Outlet_Type[T.T1]  1962.0483     37.510     52.307      0.000    1888.519    2035.577\n",
      "Outlet_Type[T.T2]  1634.1338     50.530     32.340      0.000    1535.084    1733.184\n",
      "Outlet_Type[T.T3]  3361.8803     50.427     66.668      0.000    3263.031    3460.729\n",
      "Item_MRP            969.0441     12.236     79.196      0.000     945.058     993.030\n",
      "=====================================================================================\n"
     ]
    }
   ],
   "source": [
    "fit1 = smf.ols('Item_Outlet_Sales ~ Item_MRP+Outlet_Type', data=df).fit()\n",
    "print(fit1.summary().tables[0])\n",
    "print(fit1.summary().tables[1])"
   ]
  },
  {
   "cell_type": "code",
   "execution_count": 64,
   "id": "09a248ca",
   "metadata": {},
   "outputs": [],
   "source": [
    "df = pd.get_dummies(df, columns=['Outlet_Type'])"
   ]
  },
  {
   "cell_type": "code",
   "execution_count": 65,
   "id": "cfc7e7f2",
   "metadata": {},
   "outputs": [
    {
     "data": {
      "text/html": [
       "<div>\n",
       "<style scoped>\n",
       "    .dataframe tbody tr th:only-of-type {\n",
       "        vertical-align: middle;\n",
       "    }\n",
       "\n",
       "    .dataframe tbody tr th {\n",
       "        vertical-align: top;\n",
       "    }\n",
       "\n",
       "    .dataframe thead th {\n",
       "        text-align: right;\n",
       "    }\n",
       "</style>\n",
       "<table border=\"1\" class=\"dataframe\">\n",
       "  <thead>\n",
       "    <tr style=\"text-align: right;\">\n",
       "      <th></th>\n",
       "      <th>Item_Weight</th>\n",
       "      <th>Item_Fat_Content</th>\n",
       "      <th>Item_Visibility</th>\n",
       "      <th>Item_Type</th>\n",
       "      <th>Item_MRP</th>\n",
       "      <th>Outlet_Size</th>\n",
       "      <th>Outlet_Location_Type</th>\n",
       "      <th>Item_Outlet_Sales</th>\n",
       "      <th>Outlet_Type_G</th>\n",
       "      <th>Outlet_Type_T1</th>\n",
       "      <th>Outlet_Type_T2</th>\n",
       "      <th>Outlet_Type_T3</th>\n",
       "    </tr>\n",
       "  </thead>\n",
       "  <tbody>\n",
       "    <tr>\n",
       "      <th>0</th>\n",
       "      <td>-0.841872</td>\n",
       "      <td>LF</td>\n",
       "      <td>-0.970732</td>\n",
       "      <td>Dairy</td>\n",
       "      <td>1.747454</td>\n",
       "      <td>M</td>\n",
       "      <td>1</td>\n",
       "      <td>3735.1380</td>\n",
       "      <td>0</td>\n",
       "      <td>1</td>\n",
       "      <td>0</td>\n",
       "      <td>0</td>\n",
       "    </tr>\n",
       "    <tr>\n",
       "      <th>1</th>\n",
       "      <td>-1.641706</td>\n",
       "      <td>R</td>\n",
       "      <td>-0.908111</td>\n",
       "      <td>Soft Drinks</td>\n",
       "      <td>-1.489023</td>\n",
       "      <td>M</td>\n",
       "      <td>3</td>\n",
       "      <td>443.4228</td>\n",
       "      <td>0</td>\n",
       "      <td>0</td>\n",
       "      <td>1</td>\n",
       "      <td>0</td>\n",
       "    </tr>\n",
       "  </tbody>\n",
       "</table>\n",
       "</div>"
      ],
      "text/plain": [
       "   Item_Weight Item_Fat_Content  Item_Visibility    Item_Type  Item_MRP  \\\n",
       "0    -0.841872               LF        -0.970732        Dairy  1.747454   \n",
       "1    -1.641706                R        -0.908111  Soft Drinks -1.489023   \n",
       "\n",
       "  Outlet_Size  Outlet_Location_Type  Item_Outlet_Sales  Outlet_Type_G  \\\n",
       "0           M                     1          3735.1380              0   \n",
       "1           M                     3           443.4228              0   \n",
       "\n",
       "   Outlet_Type_T1  Outlet_Type_T2  Outlet_Type_T3  \n",
       "0               1               0               0  \n",
       "1               0               1               0  "
      ]
     },
     "execution_count": 65,
     "metadata": {},
     "output_type": "execute_result"
    }
   ],
   "source": [
    "df.head(2)"
   ]
  },
  {
   "cell_type": "code",
   "execution_count": 67,
   "id": "eb57788d",
   "metadata": {},
   "outputs": [
    {
     "name": "stdout",
     "output_type": "stream",
     "text": [
      "                            OLS Regression Results                            \n",
      "==============================================================================\n",
      "Dep. Variable:      Item_Outlet_Sales   R-squared:                       0.562\n",
      "Model:                            OLS   Adj. R-squared:                  0.562\n",
      "Method:                 Least Squares   F-statistic:                     2733.\n",
      "Date:                Sat, 22 Apr 2023   Prob (F-statistic):               0.00\n",
      "Time:                        19:14:07   Log-Likelihood:                -72004.\n",
      "No. Observations:                8523   AIC:                         1.440e+05\n",
      "Df Residuals:                    8518   BIC:                         1.441e+05\n",
      "Df Model:                           4                                         \n",
      "Covariance Type:            nonrobust                                         \n",
      "==============================================================================\n",
      "==================================================================================\n",
      "                     coef    std err          t      P>|t|      [0.025      0.975]\n",
      "----------------------------------------------------------------------------------\n",
      "Intercept       1672.1661     12.879    129.837      0.000    1646.920    1697.412\n",
      "Item_MRP         969.0441     12.236     79.196      0.000     945.058     993.030\n",
      "Outlet_Type_G  -1321.4741     29.543    -44.731      0.000   -1379.386   -1263.563\n",
      "Outlet_Type_T1   640.5742     17.411     36.791      0.000     606.444     674.704\n",
      "Outlet_Type_T2   312.6597     31.478      9.933      0.000     250.955     374.365\n",
      "Outlet_Type_T3  2040.4062     31.380     65.022      0.000    1978.894    2101.919\n",
      "==================================================================================\n"
     ]
    }
   ],
   "source": [
    "fit2 = smf.ols('Item_Outlet_Sales ~ Item_MRP+Outlet_Type_G+Outlet_Type_T1+Outlet_Type_T2+Outlet_Type_T3', data=df).fit()\n",
    "print(fit2.summary().tables[0])\n",
    "print(fit2.summary().tables[1])"
   ]
  },
  {
   "cell_type": "code",
   "execution_count": 68,
   "id": "690a8db4",
   "metadata": {},
   "outputs": [
    {
     "data": {
      "text/html": [
       "<div>\n",
       "<style scoped>\n",
       "    .dataframe tbody tr th:only-of-type {\n",
       "        vertical-align: middle;\n",
       "    }\n",
       "\n",
       "    .dataframe tbody tr th {\n",
       "        vertical-align: top;\n",
       "    }\n",
       "\n",
       "    .dataframe thead th {\n",
       "        text-align: right;\n",
       "    }\n",
       "</style>\n",
       "<table border=\"1\" class=\"dataframe\">\n",
       "  <thead>\n",
       "    <tr style=\"text-align: right;\">\n",
       "      <th></th>\n",
       "      <th>Item_Weight</th>\n",
       "      <th>Item_Fat_Content</th>\n",
       "      <th>Item_Visibility</th>\n",
       "      <th>Item_Type</th>\n",
       "      <th>Item_MRP</th>\n",
       "      <th>Outlet_Size</th>\n",
       "      <th>Outlet_Location_Type</th>\n",
       "      <th>Outlet_Type</th>\n",
       "      <th>Item_Outlet_Sales</th>\n",
       "    </tr>\n",
       "  </thead>\n",
       "  <tbody>\n",
       "    <tr>\n",
       "      <th>0</th>\n",
       "      <td>9.30</td>\n",
       "      <td>Low Fat</td>\n",
       "      <td>0.016047</td>\n",
       "      <td>Dairy</td>\n",
       "      <td>249.8092</td>\n",
       "      <td>Medium</td>\n",
       "      <td>Tier 1</td>\n",
       "      <td>Supermarket Type1</td>\n",
       "      <td>3735.1380</td>\n",
       "    </tr>\n",
       "    <tr>\n",
       "      <th>1</th>\n",
       "      <td>5.92</td>\n",
       "      <td>Regular</td>\n",
       "      <td>0.019278</td>\n",
       "      <td>Soft Drinks</td>\n",
       "      <td>48.2692</td>\n",
       "      <td>Medium</td>\n",
       "      <td>Tier 3</td>\n",
       "      <td>Supermarket Type2</td>\n",
       "      <td>443.4228</td>\n",
       "    </tr>\n",
       "  </tbody>\n",
       "</table>\n",
       "</div>"
      ],
      "text/plain": [
       "   Item_Weight Item_Fat_Content  Item_Visibility    Item_Type  Item_MRP  \\\n",
       "0         9.30          Low Fat         0.016047        Dairy  249.8092   \n",
       "1         5.92          Regular         0.019278  Soft Drinks   48.2692   \n",
       "\n",
       "  Outlet_Size Outlet_Location_Type        Outlet_Type  Item_Outlet_Sales  \n",
       "0      Medium               Tier 1  Supermarket Type1          3735.1380  \n",
       "1      Medium               Tier 3  Supermarket Type2           443.4228  "
      ]
     },
     "execution_count": 68,
     "metadata": {},
     "output_type": "execute_result"
    }
   ],
   "source": [
    "test = pd.read_csv(\"C:/Users/Khusshi Dedhiaa/Desktop/SSDI/bigmart.csv\")\n",
    "test.head(2)"
   ]
  },
  {
   "cell_type": "code",
   "execution_count": 70,
   "id": "0b1b0c83",
   "metadata": {},
   "outputs": [],
   "source": [
    "test.drop(['Item_Outlet_Sales'], axis=1, inplace=True)"
   ]
  },
  {
   "cell_type": "code",
   "execution_count": 71,
   "id": "09bfcf43",
   "metadata": {},
   "outputs": [
    {
     "data": {
      "text/html": [
       "<div>\n",
       "<style scoped>\n",
       "    .dataframe tbody tr th:only-of-type {\n",
       "        vertical-align: middle;\n",
       "    }\n",
       "\n",
       "    .dataframe tbody tr th {\n",
       "        vertical-align: top;\n",
       "    }\n",
       "\n",
       "    .dataframe thead th {\n",
       "        text-align: right;\n",
       "    }\n",
       "</style>\n",
       "<table border=\"1\" class=\"dataframe\">\n",
       "  <thead>\n",
       "    <tr style=\"text-align: right;\">\n",
       "      <th></th>\n",
       "      <th>Item_Weight</th>\n",
       "      <th>Item_Fat_Content</th>\n",
       "      <th>Item_Visibility</th>\n",
       "      <th>Item_Type</th>\n",
       "      <th>Item_MRP</th>\n",
       "      <th>Outlet_Size</th>\n",
       "      <th>Outlet_Location_Type</th>\n",
       "      <th>Outlet_Type</th>\n",
       "    </tr>\n",
       "  </thead>\n",
       "  <tbody>\n",
       "    <tr>\n",
       "      <th>0</th>\n",
       "      <td>9.30</td>\n",
       "      <td>Low Fat</td>\n",
       "      <td>0.016047</td>\n",
       "      <td>Dairy</td>\n",
       "      <td>249.8092</td>\n",
       "      <td>Medium</td>\n",
       "      <td>Tier 1</td>\n",
       "      <td>Supermarket Type1</td>\n",
       "    </tr>\n",
       "    <tr>\n",
       "      <th>1</th>\n",
       "      <td>5.92</td>\n",
       "      <td>Regular</td>\n",
       "      <td>0.019278</td>\n",
       "      <td>Soft Drinks</td>\n",
       "      <td>48.2692</td>\n",
       "      <td>Medium</td>\n",
       "      <td>Tier 3</td>\n",
       "      <td>Supermarket Type2</td>\n",
       "    </tr>\n",
       "  </tbody>\n",
       "</table>\n",
       "</div>"
      ],
      "text/plain": [
       "   Item_Weight Item_Fat_Content  Item_Visibility    Item_Type  Item_MRP  \\\n",
       "0         9.30          Low Fat         0.016047        Dairy  249.8092   \n",
       "1         5.92          Regular         0.019278  Soft Drinks   48.2692   \n",
       "\n",
       "  Outlet_Size Outlet_Location_Type        Outlet_Type  \n",
       "0      Medium               Tier 1  Supermarket Type1  \n",
       "1      Medium               Tier 3  Supermarket Type2  "
      ]
     },
     "execution_count": 71,
     "metadata": {},
     "output_type": "execute_result"
    }
   ],
   "source": [
    "test.head(2)"
   ]
  },
  {
   "cell_type": "code",
   "execution_count": 73,
   "id": "e6279aec",
   "metadata": {},
   "outputs": [
    {
     "data": {
      "text/plain": [
       "Item_Weight             1463\n",
       "Item_Fat_Content           0\n",
       "Item_Visibility            0\n",
       "Item_Type                  0\n",
       "Item_MRP                   0\n",
       "Outlet_Size             2410\n",
       "Outlet_Location_Type       0\n",
       "Outlet_Type                0\n",
       "dtype: int64"
      ]
     },
     "execution_count": 73,
     "metadata": {},
     "output_type": "execute_result"
    }
   ],
   "source": [
    "test.isna().sum()"
   ]
  },
  {
   "cell_type": "code",
   "execution_count": 74,
   "id": "3c3486aa",
   "metadata": {},
   "outputs": [],
   "source": [
    "mean = test.Item_Weight.mean()\n",
    "test.Item_Weight.fillna(mean, inplace=True)"
   ]
  },
  {
   "cell_type": "code",
   "execution_count": 75,
   "id": "5967752e",
   "metadata": {},
   "outputs": [],
   "source": [
    "mode = test.Outlet_Size.mode()[0]\n",
    "test.Outlet_Size.fillna(mode, inplace=True)"
   ]
  },
  {
   "cell_type": "code",
   "execution_count": 77,
   "id": "d92a95e9",
   "metadata": {},
   "outputs": [
    {
     "data": {
      "text/plain": [
       "Item_Weight             0\n",
       "Item_Fat_Content        0\n",
       "Item_Visibility         0\n",
       "Item_Type               0\n",
       "Item_MRP                0\n",
       "Outlet_Size             0\n",
       "Outlet_Location_Type    0\n",
       "Outlet_Type             0\n",
       "dtype: int64"
      ]
     },
     "execution_count": 77,
     "metadata": {},
     "output_type": "execute_result"
    }
   ],
   "source": [
    "test.isna().sum()"
   ]
  },
  {
   "cell_type": "code",
   "execution_count": 79,
   "id": "838d8204",
   "metadata": {},
   "outputs": [
    {
     "name": "stdout",
     "output_type": "stream",
     "text": [
      "<class 'pandas.core.frame.DataFrame'>\n",
      "RangeIndex: 8523 entries, 0 to 8522\n",
      "Data columns (total 8 columns):\n",
      " #   Column                Non-Null Count  Dtype  \n",
      "---  ------                --------------  -----  \n",
      " 0   Item_Weight           8523 non-null   float64\n",
      " 1   Item_Fat_Content      8523 non-null   object \n",
      " 2   Item_Visibility       8523 non-null   float64\n",
      " 3   Item_Type             8523 non-null   object \n",
      " 4   Item_MRP              8523 non-null   float64\n",
      " 5   Outlet_Size           8523 non-null   object \n",
      " 6   Outlet_Location_Type  8523 non-null   object \n",
      " 7   Outlet_Type           8523 non-null   object \n",
      "dtypes: float64(3), object(5)\n",
      "memory usage: 532.8+ KB\n"
     ]
    }
   ],
   "source": [
    "test.info()"
   ]
  },
  {
   "cell_type": "code",
   "execution_count": 80,
   "id": "0f9fece3",
   "metadata": {},
   "outputs": [
    {
     "data": {
      "text/html": [
       "<div>\n",
       "<style scoped>\n",
       "    .dataframe tbody tr th:only-of-type {\n",
       "        vertical-align: middle;\n",
       "    }\n",
       "\n",
       "    .dataframe tbody tr th {\n",
       "        vertical-align: top;\n",
       "    }\n",
       "\n",
       "    .dataframe thead th {\n",
       "        text-align: right;\n",
       "    }\n",
       "</style>\n",
       "<table border=\"1\" class=\"dataframe\">\n",
       "  <thead>\n",
       "    <tr style=\"text-align: right;\">\n",
       "      <th></th>\n",
       "      <th>Item_Weight</th>\n",
       "      <th>Item_Fat_Content</th>\n",
       "      <th>Item_Visibility</th>\n",
       "      <th>Item_Type</th>\n",
       "      <th>Item_MRP</th>\n",
       "      <th>Outlet_Size</th>\n",
       "      <th>Outlet_Location_Type</th>\n",
       "      <th>Outlet_Type</th>\n",
       "    </tr>\n",
       "  </thead>\n",
       "  <tbody>\n",
       "    <tr>\n",
       "      <th>0</th>\n",
       "      <td>9.30</td>\n",
       "      <td>Low Fat</td>\n",
       "      <td>0.016047</td>\n",
       "      <td>Dairy</td>\n",
       "      <td>249.8092</td>\n",
       "      <td>Medium</td>\n",
       "      <td>Tier 1</td>\n",
       "      <td>Supermarket Type1</td>\n",
       "    </tr>\n",
       "    <tr>\n",
       "      <th>1</th>\n",
       "      <td>5.92</td>\n",
       "      <td>Regular</td>\n",
       "      <td>0.019278</td>\n",
       "      <td>Soft Drinks</td>\n",
       "      <td>48.2692</td>\n",
       "      <td>Medium</td>\n",
       "      <td>Tier 3</td>\n",
       "      <td>Supermarket Type2</td>\n",
       "    </tr>\n",
       "  </tbody>\n",
       "</table>\n",
       "</div>"
      ],
      "text/plain": [
       "   Item_Weight Item_Fat_Content  Item_Visibility    Item_Type  Item_MRP  \\\n",
       "0         9.30          Low Fat         0.016047        Dairy  249.8092   \n",
       "1         5.92          Regular         0.019278  Soft Drinks   48.2692   \n",
       "\n",
       "  Outlet_Size Outlet_Location_Type        Outlet_Type  \n",
       "0      Medium               Tier 1  Supermarket Type1  \n",
       "1      Medium               Tier 3  Supermarket Type2  "
      ]
     },
     "execution_count": 80,
     "metadata": {},
     "output_type": "execute_result"
    }
   ],
   "source": [
    "test.head(2)"
   ]
  },
  {
   "cell_type": "code",
   "execution_count": 82,
   "id": "058ce302",
   "metadata": {},
   "outputs": [
    {
     "data": {
      "text/plain": [
       "array(['Low Fat', 'Regular', 'low fat', 'LF', 'reg'], dtype=object)"
      ]
     },
     "execution_count": 82,
     "metadata": {},
     "output_type": "execute_result"
    }
   ],
   "source": [
    "test.Item_Fat_Content.unique()"
   ]
  },
  {
   "cell_type": "code",
   "execution_count": 83,
   "id": "3194ef33",
   "metadata": {},
   "outputs": [],
   "source": [
    "test['Item_Fat_Content'] = test.Item_Fat_Content.map({'Low Fat':'LF','Regular':'R','low fat':'LF','LF':'LF','reg':'R'})"
   ]
  },
  {
   "cell_type": "code",
   "execution_count": 84,
   "id": "cfed946a",
   "metadata": {},
   "outputs": [
    {
     "data": {
      "text/plain": [
       "array(['Medium', 'High', 'Small'], dtype=object)"
      ]
     },
     "execution_count": 84,
     "metadata": {},
     "output_type": "execute_result"
    }
   ],
   "source": [
    "test.Outlet_Size.unique()"
   ]
  },
  {
   "cell_type": "code",
   "execution_count": 85,
   "id": "5cfe6cdc",
   "metadata": {},
   "outputs": [],
   "source": [
    "test['Outlet_Size'] = test.Outlet_Size.map({'Medium':'M','High':'H','Small':'S'})"
   ]
  },
  {
   "cell_type": "code",
   "execution_count": 86,
   "id": "f4427101",
   "metadata": {},
   "outputs": [
    {
     "data": {
      "text/plain": [
       "array(['Tier 1', 'Tier 3', 'Tier 2'], dtype=object)"
      ]
     },
     "execution_count": 86,
     "metadata": {},
     "output_type": "execute_result"
    }
   ],
   "source": [
    "test.Outlet_Location_Type.unique()"
   ]
  },
  {
   "cell_type": "code",
   "execution_count": 87,
   "id": "d2612ce1",
   "metadata": {},
   "outputs": [],
   "source": [
    "test['Outlet_Location_Type'] = test.Outlet_Location_Type.map({'Tier 1':1, 'Tier 2':2, 'Tier 3':3})"
   ]
  },
  {
   "cell_type": "code",
   "execution_count": 88,
   "id": "8a2fde99",
   "metadata": {},
   "outputs": [
    {
     "data": {
      "text/plain": [
       "array(['Supermarket Type1', 'Supermarket Type2', 'Grocery Store',\n",
       "       'Supermarket Type3'], dtype=object)"
      ]
     },
     "execution_count": 88,
     "metadata": {},
     "output_type": "execute_result"
    }
   ],
   "source": [
    "test.Outlet_Type.unique()"
   ]
  },
  {
   "cell_type": "code",
   "execution_count": 90,
   "id": "70522450",
   "metadata": {},
   "outputs": [],
   "source": [
    "test['Outlet_Type'] = test.Outlet_Type.map({'Supermarket Type1':'T1','Supermarket Type2':'T2','Grocery Store':'G','Supermarket Type3':'T3'})"
   ]
  },
  {
   "cell_type": "code",
   "execution_count": 91,
   "id": "ba6ea104",
   "metadata": {},
   "outputs": [],
   "source": [
    "from sklearn.preprocessing import scale "
   ]
  },
  {
   "cell_type": "code",
   "execution_count": 92,
   "id": "fd4f517a",
   "metadata": {},
   "outputs": [],
   "source": [
    "test['Item_Weight'] = scale(test[['Item_Weight']], with_mean=True, with_std=True)"
   ]
  },
  {
   "cell_type": "code",
   "execution_count": 93,
   "id": "25ace47f",
   "metadata": {},
   "outputs": [],
   "source": [
    "test['Item_Visibility'] = scale(test[['Item_Visibility']], with_mean=True, with_std=True)"
   ]
  },
  {
   "cell_type": "code",
   "execution_count": 94,
   "id": "5f21e821",
   "metadata": {},
   "outputs": [],
   "source": [
    "test['Item_MRP'] = scale(test[['Item_MRP']], with_mean=True, with_std=True)"
   ]
  },
  {
   "cell_type": "code",
   "execution_count": 95,
   "id": "01bc6d84",
   "metadata": {},
   "outputs": [
    {
     "data": {
      "text/html": [
       "<div>\n",
       "<style scoped>\n",
       "    .dataframe tbody tr th:only-of-type {\n",
       "        vertical-align: middle;\n",
       "    }\n",
       "\n",
       "    .dataframe tbody tr th {\n",
       "        vertical-align: top;\n",
       "    }\n",
       "\n",
       "    .dataframe thead th {\n",
       "        text-align: right;\n",
       "    }\n",
       "</style>\n",
       "<table border=\"1\" class=\"dataframe\">\n",
       "  <thead>\n",
       "    <tr style=\"text-align: right;\">\n",
       "      <th></th>\n",
       "      <th>Item_Weight</th>\n",
       "      <th>Item_Fat_Content</th>\n",
       "      <th>Item_Visibility</th>\n",
       "      <th>Item_Type</th>\n",
       "      <th>Item_MRP</th>\n",
       "      <th>Outlet_Size</th>\n",
       "      <th>Outlet_Location_Type</th>\n",
       "      <th>Outlet_Type</th>\n",
       "    </tr>\n",
       "  </thead>\n",
       "  <tbody>\n",
       "    <tr>\n",
       "      <th>0</th>\n",
       "      <td>-0.841872</td>\n",
       "      <td>LF</td>\n",
       "      <td>-0.970732</td>\n",
       "      <td>Dairy</td>\n",
       "      <td>1.747454</td>\n",
       "      <td>M</td>\n",
       "      <td>1</td>\n",
       "      <td>T1</td>\n",
       "    </tr>\n",
       "    <tr>\n",
       "      <th>1</th>\n",
       "      <td>-1.641706</td>\n",
       "      <td>R</td>\n",
       "      <td>-0.908111</td>\n",
       "      <td>Soft Drinks</td>\n",
       "      <td>-1.489023</td>\n",
       "      <td>M</td>\n",
       "      <td>3</td>\n",
       "      <td>T2</td>\n",
       "    </tr>\n",
       "  </tbody>\n",
       "</table>\n",
       "</div>"
      ],
      "text/plain": [
       "   Item_Weight Item_Fat_Content  Item_Visibility    Item_Type  Item_MRP  \\\n",
       "0    -0.841872               LF        -0.970732        Dairy  1.747454   \n",
       "1    -1.641706                R        -0.908111  Soft Drinks -1.489023   \n",
       "\n",
       "  Outlet_Size  Outlet_Location_Type Outlet_Type  \n",
       "0           M                     1          T1  \n",
       "1           M                     3          T2  "
      ]
     },
     "execution_count": 95,
     "metadata": {},
     "output_type": "execute_result"
    }
   ],
   "source": [
    "test.head(2)"
   ]
  },
  {
   "cell_type": "code",
   "execution_count": 96,
   "id": "3454364e",
   "metadata": {},
   "outputs": [],
   "source": [
    "from statsmodels.tools.tools import add_constant"
   ]
  },
  {
   "cell_type": "code",
   "execution_count": 97,
   "id": "eecda848",
   "metadata": {},
   "outputs": [
    {
     "name": "stdout",
     "output_type": "stream",
     "text": [
      "           feature       VIF\n",
      "0      Item_Weight  1.000758\n",
      "1  Item_Visibility  1.000146\n",
      "2         Item_MRP  1.000614\n"
     ]
    }
   ],
   "source": [
    "x = add_constant(df)\n",
    "x = df[['Item_Weight','Item_Visibility','Item_MRP']]\n",
    "vif_df = pd.DataFrame()\n",
    "vif_df['feature'] = x.columns\n",
    "vif_df['VIF'] = [variance_inflation_factor(x.values,i) for i in range (len(x.columns))]\n",
    "print(vif_df)"
   ]
  },
  {
   "cell_type": "code",
   "execution_count": 98,
   "id": "43d49878",
   "metadata": {},
   "outputs": [],
   "source": [
    "test = pd.get_dummies(test, columns=['Outlet_Type'])"
   ]
  },
  {
   "cell_type": "code",
   "execution_count": 99,
   "id": "148cf06d",
   "metadata": {},
   "outputs": [
    {
     "data": {
      "text/html": [
       "<div>\n",
       "<style scoped>\n",
       "    .dataframe tbody tr th:only-of-type {\n",
       "        vertical-align: middle;\n",
       "    }\n",
       "\n",
       "    .dataframe tbody tr th {\n",
       "        vertical-align: top;\n",
       "    }\n",
       "\n",
       "    .dataframe thead th {\n",
       "        text-align: right;\n",
       "    }\n",
       "</style>\n",
       "<table border=\"1\" class=\"dataframe\">\n",
       "  <thead>\n",
       "    <tr style=\"text-align: right;\">\n",
       "      <th></th>\n",
       "      <th>Item_Weight</th>\n",
       "      <th>Item_Fat_Content</th>\n",
       "      <th>Item_Visibility</th>\n",
       "      <th>Item_Type</th>\n",
       "      <th>Item_MRP</th>\n",
       "      <th>Outlet_Size</th>\n",
       "      <th>Outlet_Location_Type</th>\n",
       "      <th>Outlet_Type_G</th>\n",
       "      <th>Outlet_Type_T1</th>\n",
       "      <th>Outlet_Type_T2</th>\n",
       "      <th>Outlet_Type_T3</th>\n",
       "    </tr>\n",
       "  </thead>\n",
       "  <tbody>\n",
       "    <tr>\n",
       "      <th>0</th>\n",
       "      <td>-0.841872</td>\n",
       "      <td>LF</td>\n",
       "      <td>-0.970732</td>\n",
       "      <td>Dairy</td>\n",
       "      <td>1.747454</td>\n",
       "      <td>M</td>\n",
       "      <td>1</td>\n",
       "      <td>0</td>\n",
       "      <td>1</td>\n",
       "      <td>0</td>\n",
       "      <td>0</td>\n",
       "    </tr>\n",
       "    <tr>\n",
       "      <th>1</th>\n",
       "      <td>-1.641706</td>\n",
       "      <td>R</td>\n",
       "      <td>-0.908111</td>\n",
       "      <td>Soft Drinks</td>\n",
       "      <td>-1.489023</td>\n",
       "      <td>M</td>\n",
       "      <td>3</td>\n",
       "      <td>0</td>\n",
       "      <td>0</td>\n",
       "      <td>1</td>\n",
       "      <td>0</td>\n",
       "    </tr>\n",
       "  </tbody>\n",
       "</table>\n",
       "</div>"
      ],
      "text/plain": [
       "   Item_Weight Item_Fat_Content  Item_Visibility    Item_Type  Item_MRP  \\\n",
       "0    -0.841872               LF        -0.970732        Dairy  1.747454   \n",
       "1    -1.641706                R        -0.908111  Soft Drinks -1.489023   \n",
       "\n",
       "  Outlet_Size  Outlet_Location_Type  Outlet_Type_G  Outlet_Type_T1  \\\n",
       "0           M                     1              0               1   \n",
       "1           M                     3              0               0   \n",
       "\n",
       "   Outlet_Type_T2  Outlet_Type_T3  \n",
       "0               0               0  \n",
       "1               1               0  "
      ]
     },
     "execution_count": 99,
     "metadata": {},
     "output_type": "execute_result"
    }
   ],
   "source": [
    "test.head(2)"
   ]
  },
  {
   "cell_type": "code",
   "execution_count": 100,
   "id": "2b3401a6",
   "metadata": {},
   "outputs": [
    {
     "data": {
      "text/html": [
       "<div>\n",
       "<style scoped>\n",
       "    .dataframe tbody tr th:only-of-type {\n",
       "        vertical-align: middle;\n",
       "    }\n",
       "\n",
       "    .dataframe tbody tr th {\n",
       "        vertical-align: top;\n",
       "    }\n",
       "\n",
       "    .dataframe thead th {\n",
       "        text-align: right;\n",
       "    }\n",
       "</style>\n",
       "<table border=\"1\" class=\"dataframe\">\n",
       "  <thead>\n",
       "    <tr style=\"text-align: right;\">\n",
       "      <th></th>\n",
       "      <th>Item_Weight</th>\n",
       "      <th>Item_Fat_Content</th>\n",
       "      <th>Item_Visibility</th>\n",
       "      <th>Item_Type</th>\n",
       "      <th>Item_MRP</th>\n",
       "      <th>Outlet_Size</th>\n",
       "      <th>Outlet_Location_Type</th>\n",
       "      <th>Item_Outlet_Sales</th>\n",
       "      <th>Outlet_Type_G</th>\n",
       "      <th>Outlet_Type_T1</th>\n",
       "      <th>Outlet_Type_T2</th>\n",
       "      <th>Outlet_Type_T3</th>\n",
       "    </tr>\n",
       "  </thead>\n",
       "  <tbody>\n",
       "    <tr>\n",
       "      <th>0</th>\n",
       "      <td>-0.841872</td>\n",
       "      <td>LF</td>\n",
       "      <td>-0.970732</td>\n",
       "      <td>Dairy</td>\n",
       "      <td>1.747454</td>\n",
       "      <td>M</td>\n",
       "      <td>1</td>\n",
       "      <td>3735.1380</td>\n",
       "      <td>0</td>\n",
       "      <td>1</td>\n",
       "      <td>0</td>\n",
       "      <td>0</td>\n",
       "    </tr>\n",
       "    <tr>\n",
       "      <th>1</th>\n",
       "      <td>-1.641706</td>\n",
       "      <td>R</td>\n",
       "      <td>-0.908111</td>\n",
       "      <td>Soft Drinks</td>\n",
       "      <td>-1.489023</td>\n",
       "      <td>M</td>\n",
       "      <td>3</td>\n",
       "      <td>443.4228</td>\n",
       "      <td>0</td>\n",
       "      <td>0</td>\n",
       "      <td>1</td>\n",
       "      <td>0</td>\n",
       "    </tr>\n",
       "  </tbody>\n",
       "</table>\n",
       "</div>"
      ],
      "text/plain": [
       "   Item_Weight Item_Fat_Content  Item_Visibility    Item_Type  Item_MRP  \\\n",
       "0    -0.841872               LF        -0.970732        Dairy  1.747454   \n",
       "1    -1.641706                R        -0.908111  Soft Drinks -1.489023   \n",
       "\n",
       "  Outlet_Size  Outlet_Location_Type  Item_Outlet_Sales  Outlet_Type_G  \\\n",
       "0           M                     1          3735.1380              0   \n",
       "1           M                     3           443.4228              0   \n",
       "\n",
       "   Outlet_Type_T1  Outlet_Type_T2  Outlet_Type_T3  \n",
       "0               1               0               0  \n",
       "1               0               1               0  "
      ]
     },
     "execution_count": 100,
     "metadata": {},
     "output_type": "execute_result"
    }
   ],
   "source": [
    "df.head(2)"
   ]
  },
  {
   "cell_type": "code",
   "execution_count": 101,
   "id": "5ddc79ee",
   "metadata": {},
   "outputs": [],
   "source": [
    "y_pred = fit2.predict(test)"
   ]
  },
  {
   "cell_type": "code",
   "execution_count": 102,
   "id": "79a51abe",
   "metadata": {},
   "outputs": [
    {
     "data": {
      "text/plain": [
       "0       4006.100156\n",
       "1        541.896517\n",
       "2       2322.469693\n",
       "3        990.309120\n",
       "4        956.834733\n",
       "           ...     \n",
       "8518    3456.971006\n",
       "8519    1801.762288\n",
       "8520    1443.306571\n",
       "8521    1395.669299\n",
       "8522    1293.052894\n",
       "Length: 8523, dtype: float64"
      ]
     },
     "execution_count": 102,
     "metadata": {},
     "output_type": "execute_result"
    }
   ],
   "source": [
    "y_pred"
   ]
  },
  {
   "cell_type": "code",
   "execution_count": null,
   "id": "21ed479c",
   "metadata": {},
   "outputs": [],
   "source": []
  }
 ],
 "metadata": {
  "kernelspec": {
   "display_name": "Python 3 (ipykernel)",
   "language": "python",
   "name": "python3"
  },
  "language_info": {
   "codemirror_mode": {
    "name": "ipython",
    "version": 3
   },
   "file_extension": ".py",
   "mimetype": "text/x-python",
   "name": "python",
   "nbconvert_exporter": "python",
   "pygments_lexer": "ipython3",
   "version": "3.10.9"
  }
 },
 "nbformat": 4,
 "nbformat_minor": 5
}
